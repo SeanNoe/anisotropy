{
 "cells": [
  {
   "cell_type": "markdown",
   "metadata": {},
   "source": [
    "### Determine propagation direction from data of a single 6C station\n",
    "\n",
    "If we assume an isotropic medium, the polarization of the first arriving wave will always be parallel to the propagation direction. This is true because P-waves don't have a rotational component. \n",
    "\n",
    "\n",
    "In anisotropic media this is not the case. The curl of qP-waves makes it impossible to determine the direction of propagation without rotational measurements.\n",
    "\n",
    "Still, there is an easy way to extract the propagation direction from the data.\n",
    "What do we know about the wavefield-polarizations? \n",
    "\n",
    "$\n",
    "u \\propto n\n",
    "$\n",
    "\n",
    "And from $\\Omega = \\frac{1}{2}\\nabla\\times u$ we get\n",
    "\n",
    "$\n",
    "\\Omega \\propto r = (\\nu\\times n)\n",
    "$\n",
    "\n",
    "where $\\nu$ is the normalized direction of propagation ($\\nu\\parallel k$). Here we see $\\Omega\\perp\\nu$ and $r\\perp\\nu$. \n",
    "\n",
    "This orthogonality will be the case for each of the three wavefronts qP,qS1 and qS2. From this we get that the three rotational polarizations $r_1,r_2$ and $r_3$ all lie in the plane perpendicular to $\\nu$. Straightforward, the propagation direction can be determined by\n",
    "\n",
    "$\n",
    "\\nu = \\frac{r_1\\times r_2}{\\vert\\vert r_1\\times r_2\\vert\\vert}\n",
    "$\n",
    "\n",
    "------\n",
    "\n",
    "#### Analytical derivation\n",
    "\n",
    "Translational polarizations $n_1,n_2$ and $n_3$ form a three-dimensional, orthogonal basis. This system may have an arbitrary orientation within our reference system (x,y,z). Without loss off generality, we can assume that it is possible to rotate our reference system in such a way that $n_1\\parallel x$, $n_2\\parallel y$ and $n_3\\parallel z$. $\\nu$, the propagation direction, is also rotated accordingly and in our reference frame the vector can be fully described by a vertical and a horizontal angle, $\\theta$ and $\\phi$.\n",
    "\n",
    "$\n",
    "\\nu = \\begin{pmatrix} \\cos\\phi\\sin\\theta\\\\ \\sin\\phi\\sin\\theta\\\\ \\cos\\theta\\end{pmatrix}\n",
    "$\n",
    "\n",
    "Let's calculate the set of polarizations for rotational motions. For plane waves we get $r_i = \\nu\\times n_i$, so each polarization yields $r_i\\perp\\nu$.\n",
    "\n",
    "$\n",
    "r_1 = \\begin{pmatrix} \\cos\\phi\\sin\\theta\\\\ \\sin\\phi\\sin\\theta\\\\ \\cos\\theta\\end{pmatrix}\\times\\begin{pmatrix}1\\\\0\\\\0\\end{pmatrix} = \\begin{pmatrix}0\\\\\\cos\\theta\\\\-\\sin\\phi\\sin\\theta\\end{pmatrix}\n",
    "$\n",
    "\n",
    "$\n",
    "r_2 = \\begin{pmatrix} \\cos\\phi\\sin\\theta\\\\ \\sin\\phi\\sin\\theta\\\\ \\cos\\theta\\end{pmatrix}\\times\\begin{pmatrix}0\\\\1\\\\0\\end{pmatrix} =  \\begin{pmatrix}-\\cos\\theta\\\\0\\\\\\cos\\phi\\sin\\theta\\end{pmatrix}\n",
    "$\n",
    "\n",
    "$\n",
    "r_3 = \\begin{pmatrix} \\cos\\phi\\sin\\theta\\\\ \\sin\\phi\\sin\\theta\\\\ \\cos\\theta\\end{pmatrix}\\times\\begin{pmatrix}0\\\\0\\\\1\\end{pmatrix} = \\begin{pmatrix}\\sin\\phi\\sin\\theta\\\\-\\cos\\phi\\sin\\theta\\\\0 \\end{pmatrix} \n",
    "$\n",
    "\n",
    "Note that vectors are not normalized anymore. It's not easy to see that the vectors $r_1,r_2$ and $r_3$ are not a linear independent system. The following figure may help. \n",
    "\n",
    "-------------\n",
    "\n",
    "![caption](files/figures/6C_polarizations.png)\n",
    "\n",
    "Image of all polarizations. _n1_ , _n2_ and _n3_ are translational polarizations, _r1_ , _r2_ and _r3_ are rotational polarizations, _v_ is the direction of propagation. The plane the rotational components span is shaded.\n",
    "\n",
    "Interactive example can be found here: https://www.matheretter.de/geoservant/de/?draw=vektor(0%7C0%7C0%203%7C3%7C0)+vektor(0%7C0%7C0%20-3%7C3%7C0)+vektor(0%7C0%7C0%200%7C0%7C4.2)+vektor(0%7C0%7C0%200%7C2%7C1)%7B00f%7D+vektor(0%7C0%7C0%20-1%7C1%7C-2)%7Bf00%7D+vektor(0%7C0%7C0%20-1%7C-1%7C2)%7Bf00%7D+vektor(0%7C0%7C0%202%7C0%7C0)%7Bf00%7D+text(3%7C3%7C0%20%22n1%22)%5B0%7C0%7C0%5D+text(-3%7C3%7C0%20%22n2%22)+text(0%7C0%7C4.2%20%22n3%22)+text(0%7C2%7C1%20%22v%22)+text(-1%7C1%7C-2%20%22r1%22)+text(-1%7C-1%7C2%20%22r2%22)+text(2%7C0%7C0%20%22r3%22)+ebene(0%7C0%7C0%201%7C0%7C0%20-1%7C-1%7C2)&axesoff\n",
    "\n",
    "--------\n",
    "\n",
    "If we plug in an arbitrary value, we should see the two-dimensionality easily. Let's take for example a VTI medium. In this case, changes of the horizontal angle $\\phi$ have no impact on the data, so we can set it to zero. Symbol * signals normalization to unit length.\n",
    "\n",
    "$\n",
    "r_1 = \\begin{pmatrix}0\\\\\\cos\\theta\\\\0\\end{pmatrix} \\stackrel{*}{=} \\begin{pmatrix}0\\\\1\\\\0\\end{pmatrix}\n",
    "$\n",
    "\n",
    "$\n",
    "r_2 = \\begin{pmatrix}-\\cos\\theta\\\\0\\\\\\sin\\theta\\end{pmatrix} = \\begin{pmatrix}-\\cos\\theta\\\\0\\\\\\sin\\theta\\end{pmatrix}\n",
    "$\n",
    "\n",
    "$\n",
    "r_3 = \\begin{pmatrix}0\\\\-\\sin\\theta\\\\0 \\end{pmatrix} \\stackrel{*}{=} \\begin{pmatrix}0\\\\-1\\\\0\\end{pmatrix}\n",
    "$\n",
    "\n",
    "Obviously, $r_1\\parallel r_3$. Therefore, the vector space spanned by $r_1,r_2$ and $r_3$ is **not** three-dimensional but two-dimensional. All rotational motions can be described by motions inside this plane. But don't get this wrong... there are still three distinct rotational polarization vectors. However, the method using the covariance matrix on rotational components will never yield more than 2 polarizations, i.e. more than two dimensions, because the third polarization can be obtained by adding up scaled versions of the two other polarizations (in the $\\phi=0$ VTI case $r_3=-r_1$). This is true for arbitrarily complex anisotropic media.\n",
    "\n",
    "In the process of finding the direction of propagation, all we need to do is to identify two polarizations for rotational motions what perfectly describes the plane perpendicular to $\\nu$. Afterwards, a simple cross-product suffices. Let's re-introduce $\\phi$ and demonstrate it for all possible cross-products.\n",
    "\n",
    "$\n",
    "r_1\\times r_2 = (\\nu\\times n_1)\\times(\\nu\\times n_2) = \\begin{pmatrix}0\\\\\\cos\\theta\\\\-\\sin\\phi\\sin\\theta\\end{pmatrix}\\times\\begin{pmatrix}-\\cos\\theta\\\\0\\\\\\cos\\phi\\sin\\theta\\end{pmatrix} = \\begin{pmatrix} \\cos\\phi\\sin\\theta\\cos\\theta\\\\\\sin\\phi\\sin\\theta\\cos\\theta\\\\\\cos^2\\theta \\end{pmatrix} = \\cos\\theta\\cdot\\nu \\stackrel{*}{=}\\nu \n",
    "$\n",
    "\n",
    "$\n",
    "r_2\\times r_3 = (\\nu\\times n_2)\\times(\\nu\\times n_3) = \\begin{pmatrix}-\\cos\\theta\\\\ 0\\\\ \\cos\\phi\\sin\\theta\\end{pmatrix}\\times\\begin{pmatrix}\\sin\\phi\\sin\\theta\\\\-\\cos\\phi\\sin\\theta\\\\0 \\end{pmatrix}=\\begin{pmatrix} \\cos^2\\phi\\sin^2\\theta\\\\\\sin\\phi\\cos\\phi\\sin^2\\theta\\\\\\cos\\phi\\sin\\theta\\cos\\theta \\end{pmatrix} = \\cos\\phi\\sin\\theta\\cdot\\nu\\stackrel{*}{=}\\nu\n",
    "$\n",
    "$\n",
    "r_3\\times r_1 = (\\nu\\times n_3)\\times(\\nu\\times n_1) = \\begin{pmatrix}\\sin\\phi\\sin\\theta\\\\-\\cos\\phi\\sin\\theta\\\\0 \\end{pmatrix}\\times\\begin{pmatrix}0\\\\\\cos\\theta\\\\-\\sin\\phi\\sin\\theta\\end{pmatrix}=\\begin{pmatrix} \\sin\\phi\\cos\\phi\\sin^2\\theta\\\\\\sin^2\\phi\\sin^2\\theta\\\\\\sin\\phi\\sin\\theta\\cos\\theta  \\end{pmatrix}=\\sin\\phi\\sin\\theta\\cdot\\nu\\stackrel{*}{=}\\nu\n",
    "$\n",
    "\n",
    "Sidenote: \n",
    "$(a\\times b)\\times(a\\times c) \\propto a$ for all $a,b,c \\in R^3$\n",
    "https://en.wikipedia.org/wiki/Cross_product#Triple_product_expansion\n",
    "\n",
    "----\n",
    "\n",
    "#### Extracting the polarizations\n",
    "\n",
    "We can define a function that calculates the polarizations of three components and apply it either to the translational or to the rotational data.\n",
    "\n",
    "The (3x3) Covariance matrix has to be computed. The diagonal entries are auto-correlations, non-diagonal elements are cross-correlations between each of the three components. The number of non-zero eigenvalues depends on the number of signals with different polarizations. The corresponding eigenvectors are the respective polarizations.\n",
    "The magnitude of the eigenvalues is somewhat arbitrary for each wavefront. Therefore, the signal is weighted strongly by $(t_{max}-t)^2$ such that the greatest eigenvalue corresponds to qP, the intermediate eigenvalue to qS1 and the lowest eigenvalue to qS2. This weighting helps to find the correct polarizations-wavetype pairs. First arrivals are weighted more compared to late arrivals (and not the other way round) because qP-rotations are generally smaller than qS rotations.\n",
    "\n",
    "For isotropic media, one could extract the polarization of the p-wave and immediately know the propagation direction.\n",
    "\n",
    "What about polarizations of rotations? There will never be three non-zero eigenvalues as the polarizations of the rotations are all part of the same plane.\n",
    "In this case, the polarization-wavetype pairs do not matter. The eigenvectors corresponding to the two non-zero eigenvalues perfectly define the plane perpendicular to the propagation direction.\n",
    "\n",
    "This only works in anisotropic media. Even though there are actually two distinct rotational motions in isotropic media, they appear as a single signal and thus the Covariance-method will only yield the instantaneous 1D-polarization. In isotropic media this method applied on translational signals will also result in a 2-dimensional problem as SH and SV waves arrive at the exact same time.\n",
    "\n",
    "If noise for each component is uncorrelated, this method also works for noisy data."
   ]
  },
  {
   "cell_type": "markdown",
   "metadata": {},
   "source": [
    "__Cell 0:__\n",
    "\n",
    "We import usual packages. \n",
    "Additionally, necessary functions to calculate synthetic seismograms in an anisotropic setting are called from functions_anisotropy.\n",
    "\n",
    "(Note: further explanations to functions are given in \"functions_anisotropy.py\")"
   ]
  },
  {
   "cell_type": "code",
   "execution_count": 1,
   "metadata": {},
   "outputs": [],
   "source": [
    "import numpy as np\n",
    "import matplotlib.pyplot as plt\n",
    "from functions_anisotropy import *"
   ]
  },
  {
   "cell_type": "markdown",
   "metadata": {},
   "source": [
    "__Cell 1:__\n",
    "\n",
    "Here, the covariance matrix is computed. Note the weighting to help with connecting polarizations to wavetyps. \n",
    "Variable \"eps\" marks a threshold for eigenvalues to be considered zero. The function returns all eigenvectors (i.e. polarizations) corresponding to non-zero eigenvalues sorted by their arrival time.\n",
    "Whenever there is a zero-eigenvalue, the spot in the returned list is taken by a placeholder (0)."
   ]
  },
  {
   "cell_type": "code",
   "execution_count": 2,
   "metadata": {},
   "outputs": [],
   "source": [
    "def get_polarizations(seis):\n",
    "    n_rot = np.zeros(3)\n",
    "    n_trans = np.zeros(3)\n",
    "    nt = len(seis[0,:])\n",
    "    Cov = np.zeros((3,3))\n",
    "    for i in range(0,3):\n",
    "        for j in range(0,3):\n",
    "            for it in range(0,nt):\n",
    "                Cov[i][j] += 1/nt**3 * seis[i,it] * seis[j,it] * (nt-it)**2\n",
    "    \n",
    "    w,v = np.linalg.eig(Cov)\n",
    "    l3 = np.argmax(w)\n",
    "    l1 = np.argmin(w)\n",
    "    for i in range(0,3):\n",
    "        if l1!=i and l3!=i:\n",
    "            l2 = i\n",
    "    \n",
    "    eps = max(w)*1e-9\n",
    "    # just one signal, e.g. rotations in isotropic media\n",
    "    if abs(w[l2]) <= eps: \n",
    "        return [v[:,l3],0,0]\n",
    "    # two signals, e.g. no shear wave splitting \n",
    "    elif abs(w[l1]) <= eps: \n",
    "        return [v[:,l3], v[:,l2],0]\n",
    "    # three signals, general case\n",
    "    else:           \n",
    "        return [v[:,l3], v[:,l2], v[:,l1]]    "
   ]
  },
  {
   "cell_type": "markdown",
   "metadata": {},
   "source": [
    "__Cell 2:__\n",
    "\n",
    "The actual propagation direction is calculated here. First, the previous function is called twice to get the polarizations of both translational and rotational signals. If the rotational polarizations have two placeholders, the propagation direction is calculated from the polarization of the P-wave (this is always the case for isotropic media). Whenever there are two rotational polarizations, their cross-product determines the propagation direction.\n",
    "A print-statement is put in place to tell us, which method was used during the experiment. Propagation directions are forced to point upwards to remove ambiguities."
   ]
  },
  {
   "cell_type": "code",
   "execution_count": 3,
   "metadata": {},
   "outputs": [],
   "source": [
    "def get_propagation_direction(seis):\n",
    "    n_trans = get_polarizations(seis[:3])\n",
    "    n_rot = get_polarizations(seis[3:])\n",
    "    nt1,nt2,nt3 = n_trans\n",
    "    nr1,nr2,nr3 = n_rot\n",
    "    if np.shape(nr2)==():\n",
    "        print('P-Polarization')\n",
    "        if nt1[2]<0:\n",
    "            return -nt1\n",
    "        else:\n",
    "            return nt1\n",
    "    elif np.shape(nr3)==():\n",
    "        print('Cross-product')\n",
    "        nu_e = np.cross(nr1,nr2)\n",
    "        if nu_e[2]<0:\n",
    "            nu_e = -nu_e\n",
    "        return nu_e            \n",
    "    else:\n",
    "        print('Shouldn''t exist! Error in get_propagation_direction()')  "
   ]
  },
  {
   "cell_type": "markdown",
   "metadata": {},
   "source": [
    "__Cell 3:__\n",
    "\n",
    "Get a list of available VTI-media. \n",
    "\n",
    "From Thomsen (1986)."
   ]
  },
  {
   "cell_type": "code",
   "execution_count": 4,
   "metadata": {},
   "outputs": [
    {
     "name": "stdout",
     "output_type": "stream",
     "text": [
      "#0 isotropic\n",
      "#1 taylor sandstone\n",
      "#2 mesaverde clayshale\n",
      "#3 mesaverde laminated siltstone\n",
      "#4 mesaverde mudshale\n",
      "#5 mesaverde calcareous sandstone\n",
      "#6 quartz\n"
     ]
    }
   ],
   "source": [
    "medium = load_medium_list()"
   ]
  },
  {
   "cell_type": "markdown",
   "metadata": {},
   "source": [
    "__Cell 4:__\n",
    "\n",
    "Here, we load an elastic tensor. You can change the index to try out different anisotropic media.\n",
    "It's possible to display all six values (vertical p-wave velocity, vertical shear wave velocity, $\\epsilon$,$\\delta$,$\\gamma$ and density). \n",
    "If you want to change specific parameters, you must add the line _parameter = new_parameter_ inside the function, e.g. _eps=new_eps_, where only new parameters are changed while all unspecified values remain the same. "
   ]
  },
  {
   "cell_type": "code",
   "execution_count": 5,
   "metadata": {},
   "outputs": [
    {
     "name": "stdout",
     "output_type": "stream",
     "text": [
      "taylor sandstone\n",
      " \n",
      "vp0     = 3368\n",
      "vs0     = 1829\n",
      "eps     = 0.11\n",
      "delta   = -0.035\n",
      "gamma   = 0.255\n",
      "density = 2500\n",
      " \n",
      "[[37.36250021  6.53333337  9.10673981  0.          0.          0.        ]\n",
      " [ 6.53333337 37.36250021  9.10673981  0.          0.          0.        ]\n",
      " [ 9.10673981  9.10673981 30.62500018  0.          0.          0.        ]\n",
      " [ 0.          0.          0.         10.20833339  0.          0.        ]\n",
      " [ 0.          0.          0.          0.         10.20833339  0.        ]\n",
      " [ 0.          0.          0.          0.          0.         15.41458342]]\n"
     ]
    }
   ],
   "source": [
    "index = 1\n",
    "C, density = get_specific_VTI(medium[index], give_thomsen=True)"
   ]
  },
  {
   "cell_type": "markdown",
   "metadata": {},
   "source": [
    "__Cell 4:__\n",
    "\n",
    "If you don't want to look at random propagation directions, you can choose a specific direction here. After execution, you will be asked to give values for x, y and z. Your vector doesn't need to be normalized.\n",
    "\n",
    "You can easily compare your input to the estimated propagation direction."
   ]
  },
  {
   "cell_type": "code",
   "execution_count": 6,
   "metadata": {},
   "outputs": [
    {
     "name": "stdout",
     "output_type": "stream",
     "text": [
      "x -2\n",
      "y 1\n",
      "z 2\n",
      "Used method:\n",
      "Cross-product\n",
      "Estimated direction:\n",
      "[-0.66666667  0.33333333  0.66666667]\n"
     ]
    },
    {
     "data": {
      "image/png": "[encoded data removed]",
      "text/plain": [
       "<Figure size 432x288 with 1 Axes>"
      ]
     },
     "metadata": {
      "needs_background": "light"
     },
     "output_type": "display_data"
    },
    {
     "data": {
      "image/png": "[encoded data removed]",
      "text/plain": [
       "<Figure size 432x288 with 1 Axes>"
      ]
     },
     "metadata": {
      "needs_background": "light"
     },
     "output_type": "display_data"
    }
   ],
   "source": [
    "f = 10.\n",
    "plot_rotated_seismo = True\n",
    "\n",
    "nus,gammas = get_direction('input', C,1 )\n",
    "vel,v = get_eigenvals(gammas[0], density)\n",
    "seis, t = get_seis(v, vel, nus[0], f)\n",
    "\n",
    "nus = 0 #forget about propagation direction\n",
    "print('Used method:')\n",
    "nu_e = get_propagation_direction(seis)\n",
    "print('Estimated direction:')\n",
    "print(nu_e)\n",
    "if plot_rotated_seismo:    \n",
    "            vel_e, seis_rot,R = estimate_velocity(seis,nu_e,t,\\\n",
    "                                              plot_rotated_seismo=plot_rotated_seismo)"
   ]
  },
  {
   "cell_type": "markdown",
   "metadata": {},
   "source": [
    "__Cell 5:__\n",
    "\n",
    "This is where the main experiment takes place. You can easily change the frequency of the signals and the total number of experiments. Density, frequency and C will stay constant for each randomly selected direction. To change C, please go back to Cell 4. If you want to take a look at the rotated seismometers, you can set _plot_rotated_seismo=True_ -- note: The seismographs will already be rotated around the estimated direction of propagation, meaning that the rotation rates around x _should_ be zero.\n",
    "\n",
    "Try different media, e.g. change from VTI to isotropic. \n",
    "\n",
    "The experiment also gives you the possibility to compare estimated directions directly to the correct ones. First, you can take a look at the absolute values of angles theta (vertical) and phi (horizontal). Also, the difference between both vectors is calculated and the magnitude (log10) of the error is shown."
   ]
  },
  {
   "cell_type": "code",
   "execution_count": 7,
   "metadata": {
    "scrolled": false
   },
   "outputs": [
    {
     "name": "stdout",
     "output_type": "stream",
     "text": [
      "#1\n",
      "Used method:\n",
      "Cross-product\n",
      "Estimated direction of propagation:\n",
      "Theta: 88.29258577051012\n",
      "Phi: -151.56000000000012\n",
      "Actual direction of propagation:\n",
      "Theta: 88.29258577051014\n",
      "Phi: -151.56\n",
      "Error (order of magnitude):\n",
      "-14.788361663574298\n",
      "---------------------------------- \n",
      "#2\n",
      "Used method:\n",
      "Cross-product\n",
      "Estimated direction of propagation:\n",
      "Theta: 22.88372387837566\n",
      "Phi: 68.76000000000089\n",
      "Actual direction of propagation:\n",
      "Theta: 22.883723878375363\n",
      "Phi: 68.75999999999999\n",
      "Error (order of magnitude):\n",
      "-14.10200817532914\n",
      "---------------------------------- \n",
      "#3\n",
      "Used method:\n",
      "Cross-product\n",
      "Estimated direction of propagation:\n",
      "Theta: 64.32576120018754\n",
      "Phi: 125.63999999999972\n",
      "Actual direction of propagation:\n",
      "Theta: 64.32576120018781\n",
      "Phi: 125.63999999999997\n",
      "Error (order of magnitude):\n",
      "-14.213653565035672\n",
      "---------------------------------- \n",
      "#4\n",
      "Used method:\n",
      "Cross-product\n",
      "Estimated direction of propagation:\n",
      "Theta: 20.09341941608876\n",
      "Phi: -173.87999999999838\n",
      "Actual direction of propagation:\n",
      "Theta: 20.093419416088263\n",
      "Phi: -173.88\n",
      "Error (order of magnitude):\n",
      "-13.879570021437964\n",
      "---------------------------------- \n",
      "#5\n",
      "Used method:\n",
      "Cross-product\n",
      "Estimated direction of propagation:\n",
      "Theta: 17.211441706580064\n",
      "Phi: -158.39999999999978\n",
      "Actual direction of propagation:\n",
      "Theta: 17.211441706580214\n",
      "Phi: -158.39999999999998\n",
      "Error (order of magnitude):\n",
      "-14.57385490617534\n",
      "---------------------------------- \n"
     ]
    }
   ],
   "source": [
    "N = 5\n",
    "f = 10.\n",
    "plot_rotated_seismo=False\n",
    "\n",
    "nus,gammas = get_direction('random', C, N)\n",
    "all_seis = []\n",
    "r2d = 180/np.pi\n",
    "for i in range(0,N):\n",
    "    vel,v = get_eigenvals(gammas[i], density)\n",
    "    seis, t = get_seis(v, vel, nus[i], f)\n",
    "    all_seis.append(seis)\n",
    "    \n",
    "    \n",
    "for i in range(0,N):  \n",
    "    print('#'+str(i+1))\n",
    "    print('Used method:')\n",
    "    nu_e = get_propagation_direction(all_seis[i])\n",
    "    \n",
    "    if plot_rotated_seismo:    \n",
    "        vel_e, _,_ = estimate_velocity(all_seis[i],nu_e,t,\\\n",
    "                                              plot_rotated_seismo=plot_rotated_seismo)\n",
    "        \n",
    "    theta_e, phi_e = get_angles(nu_e)\n",
    "    theta, phi = get_angles(nus[i])\n",
    "    print('Estimated direction of propagation:')\n",
    "    print('Theta: '+str(theta_e*r2d))\n",
    "    print('Phi: '+str(phi_e*r2d))\n",
    "    print('Actual direction of propagation:')\n",
    "    print('Theta: '+str(theta*r2d))\n",
    "    print('Phi: '+str(phi*r2d))\n",
    "    print('Error (order of magnitude):')\n",
    "    err = np.sqrt((nus[i][0]-nu_e[0])**2+(nus[i][1]-nu_e[1])**2+(nus[i][2]-nu_e[2])**2)\n",
    "    print(np.log10(err))\n",
    "    print('---------------------------------- ')"
   ]
  },
  {
   "cell_type": "markdown",
   "metadata": {},
   "source": [
    "#### Observations and Interpretations (to be extended)\n",
    "\n",
    "- The estimation of propagation directions is with the cross-product between rotational components extremely accurate (machine precision). This is astonishing, especially considering that the estimations for the isotropic case deviates by some amount of order -1,-2. There seems to be some error in the determination of the polarization vectors. However, this error cancels itself out for rotational components. One could see it that way: the polarizations of rotations are forced into one plane. There is no error here, as eigenvalues of the Covariance matrix have to grow over some threshold. Within this plane, the polarizations could be wrong by some angle, but the cross-product is invariant to that. (I assume, one could also get more exact propagation directions when using a (6x6) Covariance matrix in the isotropic case. This allows the distinction between SH and SV wavetypes, both having rotational vectors with different polarizations.)\n",
    "\n",
    "- Frequencies do not change the outcome of the experiment. When using high frequencies, the polarizations could sometimes even be estimated just by looking at the plots. It's good to see that the method works better than the human eye.\n",
    "\n",
    "- For anisotropic media, it's not necessary to determine the polarization of translational motions.\n",
    "\n",
    "- This method only works inside the medium where there are no free-surface boundary conditions. When there are boundary conditions, the rotational measurements will be three-dimesional as the rotational planes of incoming and reflected wavefronts won't be the same. \n",
    "\n"
   ]
  },
  {
   "cell_type": "code",
   "execution_count": null,
   "metadata": {},
   "outputs": [],
   "source": []
  }
 ],
 "metadata": {
  "kernelspec": {
   "display_name": "Python 3",
   "language": "python",
   "name": "python3"
  },
  "language_info": {
   "codemirror_mode": {
    "name": "ipython",
    "version": 3
   },
   "file_extension": ".py",
   "mimetype": "text/x-python",
   "name": "python",
   "nbconvert_exporter": "python",
   "pygments_lexer": "ipython3",
   "version": "3.7.3"
  }
 },
 "nbformat": 4,
 "nbformat_minor": 2
}
